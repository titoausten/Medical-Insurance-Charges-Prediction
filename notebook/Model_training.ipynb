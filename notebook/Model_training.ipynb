{
 "cells": [
  {
   "cell_type": "markdown",
   "id": "1a7fbfe5",
   "metadata": {},
   "source": [
    "## Model Training and Hyperparameter Optimization\n",
    "\n",
    "### Group: Dominance\n",
    "* Tito Osadebey<br>\n",
    "  [Email](https://www.osadebe.tito@gmail.com) | [GitHub](https://github.com/titoausten)\n",
    "* Hammed Arogundade<br>\n",
    "  [Email](https://www.arogundadehammed09@gmail.com) | [GitHub](https://github.com/ahmeedaro)\n",
    "* Waqar Ahmed<br>\n",
    "  [Email](https://www.waqarahmed695@gmail.com) | [GitHub](https://github.com/waqarahmed6095)"
   ]
  },
  {
   "cell_type": "markdown",
   "id": "07ff1d00",
   "metadata": {},
   "source": [
    "<hr>"
   ]
  },
  {
   "cell_type": "markdown",
   "id": "6b4772a0",
   "metadata": {},
   "source": [
    "### Import required libraries "
   ]
  },
  {
   "cell_type": "code",
   "execution_count": 1,
   "id": "bbe497e8",
   "metadata": {},
   "outputs": [],
   "source": [
    "import numpy as np\n",
    "import pandas as pd\n",
    "import matplotlib.pyplot as plt\n",
    "import seaborn as sns"
   ]
  },
  {
   "cell_type": "markdown",
   "id": "81e4c5d3",
   "metadata": {},
   "source": [
    "### Read Dataset"
   ]
  },
  {
   "cell_type": "code",
   "execution_count": 2,
   "id": "d698feeb",
   "metadata": {},
   "outputs": [
    {
     "data": {
      "text/html": [
       "<div>\n",
       "<style scoped>\n",
       "    .dataframe tbody tr th:only-of-type {\n",
       "        vertical-align: middle;\n",
       "    }\n",
       "\n",
       "    .dataframe tbody tr th {\n",
       "        vertical-align: top;\n",
       "    }\n",
       "\n",
       "    .dataframe thead th {\n",
       "        text-align: right;\n",
       "    }\n",
       "</style>\n",
       "<table border=\"1\" class=\"dataframe\">\n",
       "  <thead>\n",
       "    <tr style=\"text-align: right;\">\n",
       "      <th></th>\n",
       "      <th>age</th>\n",
       "      <th>sex</th>\n",
       "      <th>bmi</th>\n",
       "      <th>children</th>\n",
       "      <th>smoker</th>\n",
       "      <th>region</th>\n",
       "      <th>charges</th>\n",
       "    </tr>\n",
       "  </thead>\n",
       "  <tbody>\n",
       "    <tr>\n",
       "      <th>0</th>\n",
       "      <td>19</td>\n",
       "      <td>female</td>\n",
       "      <td>27.900</td>\n",
       "      <td>0</td>\n",
       "      <td>yes</td>\n",
       "      <td>southwest</td>\n",
       "      <td>16884.92400</td>\n",
       "    </tr>\n",
       "    <tr>\n",
       "      <th>1</th>\n",
       "      <td>18</td>\n",
       "      <td>male</td>\n",
       "      <td>33.770</td>\n",
       "      <td>1</td>\n",
       "      <td>no</td>\n",
       "      <td>southeast</td>\n",
       "      <td>1725.55230</td>\n",
       "    </tr>\n",
       "    <tr>\n",
       "      <th>2</th>\n",
       "      <td>28</td>\n",
       "      <td>male</td>\n",
       "      <td>33.000</td>\n",
       "      <td>3</td>\n",
       "      <td>no</td>\n",
       "      <td>southeast</td>\n",
       "      <td>4449.46200</td>\n",
       "    </tr>\n",
       "    <tr>\n",
       "      <th>3</th>\n",
       "      <td>33</td>\n",
       "      <td>male</td>\n",
       "      <td>22.705</td>\n",
       "      <td>0</td>\n",
       "      <td>no</td>\n",
       "      <td>northwest</td>\n",
       "      <td>21984.47061</td>\n",
       "    </tr>\n",
       "    <tr>\n",
       "      <th>4</th>\n",
       "      <td>32</td>\n",
       "      <td>male</td>\n",
       "      <td>28.880</td>\n",
       "      <td>0</td>\n",
       "      <td>no</td>\n",
       "      <td>northwest</td>\n",
       "      <td>3866.85520</td>\n",
       "    </tr>\n",
       "  </tbody>\n",
       "</table>\n",
       "</div>"
      ],
      "text/plain": [
       "   age     sex     bmi  children smoker     region      charges\n",
       "0   19  female  27.900         0    yes  southwest  16884.92400\n",
       "1   18    male  33.770         1     no  southeast   1725.55230\n",
       "2   28    male  33.000         3     no  southeast   4449.46200\n",
       "3   33    male  22.705         0     no  northwest  21984.47061\n",
       "4   32    male  28.880         0     no  northwest   3866.85520"
      ]
     },
     "execution_count": 2,
     "metadata": {},
     "output_type": "execute_result"
    }
   ],
   "source": [
    "data = pd.read_csv(\"insurance.csv\")\n",
    "data.head()"
   ]
  },
  {
   "cell_type": "markdown",
   "id": "5b105077",
   "metadata": {},
   "source": [
    "### Label encode categorical features"
   ]
  },
  {
   "cell_type": "code",
   "execution_count": 12,
   "id": "976d64c1",
   "metadata": {},
   "outputs": [
    {
     "data": {
      "text/html": [
       "<div>\n",
       "<style scoped>\n",
       "    .dataframe tbody tr th:only-of-type {\n",
       "        vertical-align: middle;\n",
       "    }\n",
       "\n",
       "    .dataframe tbody tr th {\n",
       "        vertical-align: top;\n",
       "    }\n",
       "\n",
       "    .dataframe thead th {\n",
       "        text-align: right;\n",
       "    }\n",
       "</style>\n",
       "<table border=\"1\" class=\"dataframe\">\n",
       "  <thead>\n",
       "    <tr style=\"text-align: right;\">\n",
       "      <th></th>\n",
       "      <th>age</th>\n",
       "      <th>sex</th>\n",
       "      <th>bmi</th>\n",
       "      <th>children</th>\n",
       "      <th>smoker</th>\n",
       "      <th>region</th>\n",
       "      <th>charges</th>\n",
       "    </tr>\n",
       "  </thead>\n",
       "  <tbody>\n",
       "    <tr>\n",
       "      <th>0</th>\n",
       "      <td>19</td>\n",
       "      <td>0</td>\n",
       "      <td>27.900</td>\n",
       "      <td>0</td>\n",
       "      <td>1</td>\n",
       "      <td>southwest</td>\n",
       "      <td>16884.92400</td>\n",
       "    </tr>\n",
       "    <tr>\n",
       "      <th>1</th>\n",
       "      <td>18</td>\n",
       "      <td>1</td>\n",
       "      <td>33.770</td>\n",
       "      <td>1</td>\n",
       "      <td>0</td>\n",
       "      <td>southeast</td>\n",
       "      <td>1725.55230</td>\n",
       "    </tr>\n",
       "    <tr>\n",
       "      <th>2</th>\n",
       "      <td>28</td>\n",
       "      <td>1</td>\n",
       "      <td>33.000</td>\n",
       "      <td>3</td>\n",
       "      <td>0</td>\n",
       "      <td>southeast</td>\n",
       "      <td>4449.46200</td>\n",
       "    </tr>\n",
       "    <tr>\n",
       "      <th>3</th>\n",
       "      <td>33</td>\n",
       "      <td>1</td>\n",
       "      <td>22.705</td>\n",
       "      <td>0</td>\n",
       "      <td>0</td>\n",
       "      <td>northwest</td>\n",
       "      <td>21984.47061</td>\n",
       "    </tr>\n",
       "    <tr>\n",
       "      <th>4</th>\n",
       "      <td>32</td>\n",
       "      <td>1</td>\n",
       "      <td>28.880</td>\n",
       "      <td>0</td>\n",
       "      <td>0</td>\n",
       "      <td>northwest</td>\n",
       "      <td>3866.85520</td>\n",
       "    </tr>\n",
       "  </tbody>\n",
       "</table>\n",
       "</div>"
      ],
      "text/plain": [
       "   age  sex     bmi  children  smoker     region      charges\n",
       "0   19    0  27.900         0       1  southwest  16884.92400\n",
       "1   18    1  33.770         1       0  southeast   1725.55230\n",
       "2   28    1  33.000         3       0  southeast   4449.46200\n",
       "3   33    1  22.705         0       0  northwest  21984.47061\n",
       "4   32    1  28.880         0       0  northwest   3866.85520"
      ]
     },
     "execution_count": 12,
     "metadata": {},
     "output_type": "execute_result"
    }
   ],
   "source": [
    "from sklearn.preprocessing import LabelEncoder, OneHotEncoder\n",
    "le = LabelEncoder()\n",
    "\n",
    "#Categorical Features: sex, smoker and region\n",
    "data['sex'] = le.fit_transform(data['sex'])\n",
    "data['smoker'] = le.fit_transform(data['smoker'])\n",
    "\n",
    "data.head()"
   ]
  },
  {
   "cell_type": "code",
   "execution_count": 15,
   "id": "5ff65172",
   "metadata": {},
   "outputs": [
    {
     "data": {
      "text/html": [
       "<div>\n",
       "<style scoped>\n",
       "    .dataframe tbody tr th:only-of-type {\n",
       "        vertical-align: middle;\n",
       "    }\n",
       "\n",
       "    .dataframe tbody tr th {\n",
       "        vertical-align: top;\n",
       "    }\n",
       "\n",
       "    .dataframe thead th {\n",
       "        text-align: right;\n",
       "    }\n",
       "</style>\n",
       "<table border=\"1\" class=\"dataframe\">\n",
       "  <thead>\n",
       "    <tr style=\"text-align: right;\">\n",
       "      <th></th>\n",
       "      <th>age</th>\n",
       "      <th>sex</th>\n",
       "      <th>bmi</th>\n",
       "      <th>children</th>\n",
       "      <th>smoker</th>\n",
       "      <th>charges</th>\n",
       "      <th>region_northeast</th>\n",
       "      <th>region_northwest</th>\n",
       "      <th>region_southeast</th>\n",
       "      <th>region_southwest</th>\n",
       "    </tr>\n",
       "  </thead>\n",
       "  <tbody>\n",
       "    <tr>\n",
       "      <th>0</th>\n",
       "      <td>19</td>\n",
       "      <td>0</td>\n",
       "      <td>27.900</td>\n",
       "      <td>0</td>\n",
       "      <td>1</td>\n",
       "      <td>16884.92400</td>\n",
       "      <td>0</td>\n",
       "      <td>0</td>\n",
       "      <td>0</td>\n",
       "      <td>1</td>\n",
       "    </tr>\n",
       "    <tr>\n",
       "      <th>1</th>\n",
       "      <td>18</td>\n",
       "      <td>1</td>\n",
       "      <td>33.770</td>\n",
       "      <td>1</td>\n",
       "      <td>0</td>\n",
       "      <td>1725.55230</td>\n",
       "      <td>0</td>\n",
       "      <td>0</td>\n",
       "      <td>1</td>\n",
       "      <td>0</td>\n",
       "    </tr>\n",
       "    <tr>\n",
       "      <th>2</th>\n",
       "      <td>28</td>\n",
       "      <td>1</td>\n",
       "      <td>33.000</td>\n",
       "      <td>3</td>\n",
       "      <td>0</td>\n",
       "      <td>4449.46200</td>\n",
       "      <td>0</td>\n",
       "      <td>0</td>\n",
       "      <td>1</td>\n",
       "      <td>0</td>\n",
       "    </tr>\n",
       "    <tr>\n",
       "      <th>3</th>\n",
       "      <td>33</td>\n",
       "      <td>1</td>\n",
       "      <td>22.705</td>\n",
       "      <td>0</td>\n",
       "      <td>0</td>\n",
       "      <td>21984.47061</td>\n",
       "      <td>0</td>\n",
       "      <td>1</td>\n",
       "      <td>0</td>\n",
       "      <td>0</td>\n",
       "    </tr>\n",
       "    <tr>\n",
       "      <th>4</th>\n",
       "      <td>32</td>\n",
       "      <td>1</td>\n",
       "      <td>28.880</td>\n",
       "      <td>0</td>\n",
       "      <td>0</td>\n",
       "      <td>3866.85520</td>\n",
       "      <td>0</td>\n",
       "      <td>1</td>\n",
       "      <td>0</td>\n",
       "      <td>0</td>\n",
       "    </tr>\n",
       "  </tbody>\n",
       "</table>\n",
       "</div>"
      ],
      "text/plain": [
       "   age  sex     bmi  children  smoker      charges  region_northeast  \\\n",
       "0   19    0  27.900         0       1  16884.92400                 0   \n",
       "1   18    1  33.770         1       0   1725.55230                 0   \n",
       "2   28    1  33.000         3       0   4449.46200                 0   \n",
       "3   33    1  22.705         0       0  21984.47061                 0   \n",
       "4   32    1  28.880         0       0   3866.85520                 0   \n",
       "\n",
       "   region_northwest  region_southeast  region_southwest  \n",
       "0                 0                 0                 1  \n",
       "1                 0                 1                 0  \n",
       "2                 0                 1                 0  \n",
       "3                 1                 0                 0  \n",
       "4                 1                 0                 0  "
      ]
     },
     "execution_count": 15,
     "metadata": {},
     "output_type": "execute_result"
    }
   ],
   "source": [
    "data = pd.get_dummies(data=data, columns=['region'])\n",
    "data.head()"
   ]
  },
  {
   "cell_type": "markdown",
   "id": "83642a28",
   "metadata": {},
   "source": [
    "<hr>"
   ]
  },
  {
   "cell_type": "markdown",
   "id": "58e5a21d",
   "metadata": {},
   "source": [
    "### Features and labels"
   ]
  },
  {
   "cell_type": "code",
   "execution_count": 16,
   "id": "2e831d5d",
   "metadata": {},
   "outputs": [],
   "source": [
    "X = data.drop('charges', axis=1)\n",
    "y = data.loc[:, 'charges']"
   ]
  },
  {
   "cell_type": "markdown",
   "id": "e612825f",
   "metadata": {},
   "source": [
    "<hr>"
   ]
  },
  {
   "cell_type": "markdown",
   "id": "1f74171d",
   "metadata": {},
   "source": [
    "### Splitting the data into training and test datasets."
   ]
  },
  {
   "cell_type": "code",
   "execution_count": 17,
   "id": "2d3a3526",
   "metadata": {},
   "outputs": [],
   "source": [
    "from sklearn.model_selection import train_test_split\n",
    "X_train, X_val, y_train, y_test = train_test_split(X, y, test_size=0.3)"
   ]
  },
  {
   "cell_type": "markdown",
   "id": "3a9d01c7",
   "metadata": {},
   "source": [
    "<hr>"
   ]
  },
  {
   "cell_type": "markdown",
   "id": "02da9872",
   "metadata": {},
   "source": [
    "### Feature Scaling"
   ]
  },
  {
   "cell_type": "code",
   "execution_count": 18,
   "id": "611c8a7f",
   "metadata": {},
   "outputs": [],
   "source": [
    "from sklearn.preprocessing import StandardScaler\n",
    "\n",
    "scaler = StandardScaler()\n",
    "scaled_Xtrain = scaler.fit_transform(X_train)\n",
    "scaled_Xval = scaler.transform(X_val)"
   ]
  },
  {
   "cell_type": "markdown",
   "id": "e39e0d3b",
   "metadata": {},
   "source": [
    "<hr>"
   ]
  },
  {
   "cell_type": "markdown",
   "id": "5b4d3a01",
   "metadata": {},
   "source": [
    "### Model Selection\n",
    "it is a regression problem, hence regression algorithms are utilized"
   ]
  },
  {
   "cell_type": "code",
   "execution_count": 19,
   "id": "4dcd8dbe",
   "metadata": {},
   "outputs": [],
   "source": [
    "#Linear Regression\n",
    "from sklearn.linear_model import LinearRegression\n",
    "lr = LinearRegression()\n",
    "\n",
    "#Decision Tree Regressor\n",
    "from sklearn.tree import DecisionTreeRegressor\n",
    "dt = DecisionTreeRegressor()\n",
    "\n",
    "#XGB Regressor\n",
    "from xgboost import XGBRegressor\n",
    "xgbr = XGBRegressor(n_estimators=1000, max_depth=7, eta=0.1, subsample=0.7, learning_rate=0.1)\n",
    "\n",
    "#Random Forest Regressor, Gradient Boosting Regressor, Extra Trees Regressor and Bagging Regressor\n",
    "from sklearn.ensemble import RandomForestRegressor, GradientBoostingRegressor, ExtraTreesRegressor, BaggingRegressor\n",
    "forest = RandomForestRegressor()\n",
    "boost = GradientBoostingRegressor()\n",
    "extratree = ExtraTreesRegressor()\n",
    "bagging = BaggingRegressor()"
   ]
  },
  {
   "cell_type": "markdown",
   "id": "6f295bca",
   "metadata": {},
   "source": [
    "### Choosing the Best Performing Model using Cross validation"
   ]
  },
  {
   "cell_type": "code",
   "execution_count": 20,
   "id": "eb098cf6",
   "metadata": {},
   "outputs": [
    {
     "data": {
      "text/plain": [
       "BaggingRegressor()"
      ]
     },
     "execution_count": 20,
     "metadata": {},
     "output_type": "execute_result"
    }
   ],
   "source": [
    "lr.fit(scaled_Xtrain, y_train)\n",
    "dt.fit(scaled_Xtrain, y_train)\n",
    "xgbr.fit(scaled_Xtrain, y_train)\n",
    "forest.fit(scaled_Xtrain, y_train)\n",
    "boost.fit(scaled_Xtrain, y_train)\n",
    "extratree.fit(scaled_Xtrain, y_train)\n",
    "bagging.fit(scaled_Xtrain, y_train)"
   ]
  },
  {
   "cell_type": "code",
   "execution_count": 21,
   "id": "a908e584",
   "metadata": {},
   "outputs": [
    {
     "name": "stdout",
     "output_type": "stream",
     "text": [
      "Linear Regressor Model Mean MAE: 4248.836.\n",
      "Decision Tree Regressor Model Mean MAE: 3099.740.\n",
      "XGB Regressor Model Mean MAE: 2884.457.\n",
      "Random Forest Regressor Model Mean MAE: 2620.470.\n",
      "Gradient Boosting Regressor Model Mean MAE: 2540.690.\n",
      "Extra Trees Regressor Model Mean MAE: 2709.893.\n",
      "Bagging Regressor Model Mean MAE: 2760.077.\n"
     ]
    }
   ],
   "source": [
    "from sklearn.model_selection import cross_val_score, RepeatedKFold\n",
    "\n",
    "models_scores = ['Linear', 'Decision Tree', 'XGB', 'Random Forest', 'Gradient Boosting', 'Extra Trees', 'Bagging']\n",
    "models = [lr , dt, xgbr, forest, boost, extratree, bagging]\n",
    "index = 0\n",
    "cv = RepeatedKFold(n_splits=10, n_repeats=3, random_state=1)\n",
    "\n",
    "for model in models_scores:\n",
    "    score = cross_val_score(models[index], scaled_Xtrain, y_train,\n",
    "                                           scoring='neg_mean_absolute_error', cv=cv, n_jobs=-1)\n",
    "    score = np.absolute(score)\n",
    "    print(f\"{model} Regressor Model Mean MAE: {score.mean():.3f}.\")\n",
    "    index += 1"
   ]
  },
  {
   "cell_type": "markdown",
   "id": "98232b90",
   "metadata": {},
   "source": [
    "#### Gradient Boosting Regressor is the Best performing model having the least Mean MAE"
   ]
  },
  {
   "cell_type": "markdown",
   "id": "d1e86610",
   "metadata": {},
   "source": [
    "<hr>"
   ]
  },
  {
   "cell_type": "markdown",
   "id": "e1de67b9",
   "metadata": {},
   "source": [
    "### Confirming Gradient Boosting Regressor is the Best performing Model"
   ]
  },
  {
   "cell_type": "code",
   "execution_count": 22,
   "id": "5e86cf73",
   "metadata": {},
   "outputs": [],
   "source": [
    "lrpred = lr.predict(scaled_Xval)\n",
    "dtpred = dt.predict(scaled_Xval)\n",
    "xgbpred = xgbr.predict(scaled_Xval)\n",
    "forestpred = forest.predict(scaled_Xval)\n",
    "boostpred = boost.predict(scaled_Xval)\n",
    "extrapred = extratree.predict(scaled_Xval)\n",
    "baggingpred = bagging.predict(scaled_Xval)"
   ]
  },
  {
   "cell_type": "code",
   "execution_count": 23,
   "id": "b9edc2bc",
   "metadata": {},
   "outputs": [
    {
     "name": "stdout",
     "output_type": "stream",
     "text": [
      "\n",
      "Linear:\n",
      "rmse = 6013.135885057847\n",
      "r2_score = 0.7628479052963053\n",
      "\n",
      "Decision Tree:\n",
      "rmse = 6010.508790659173\n",
      "r2_score = 0.7630550800067813\n",
      "\n",
      "XGB:\n",
      "rmse = 5253.330590579023\n",
      "r2_score = 0.8189934077746457\n",
      "\n",
      "Random Forest:\n",
      "rmse = 4785.89730452618\n",
      "r2_score = 0.8497717253969328\n",
      "\n",
      "Gradient Boosting:\n",
      "rmse = 4558.953671037306\n",
      "r2_score = 0.8636813469016373\n",
      "\n",
      "Extra Trees:\n",
      "rmse = 4884.0568883012165\n",
      "r2_score = 0.843546113352146\n",
      "\n",
      "Bagging:\n",
      "rmse = 5085.615923441999\n",
      "r2_score = 0.8303663350463912\n"
     ]
    }
   ],
   "source": [
    "from sklearn.metrics import mean_squared_error, r2_score\n",
    "n = 0\n",
    "predictions = [lrpred , dtpred, xgbpred, forestpred, boostpred, extrapred, baggingpred]\n",
    "\n",
    "for model in models_scores:\n",
    "    rmse = np.sqrt(mean_squared_error(y_test, predictions[n]))\n",
    "    r2score = models[n].score(scaled_Xval, y_test)\n",
    "    print(f\"\\n{model}:\\nrmse = {rmse}\\nr2_score = {r2score}\")\n",
    "    \n",
    "    n += 1"
   ]
  },
  {
   "cell_type": "markdown",
   "id": "ad5f4138",
   "metadata": {},
   "source": [
    "##### Gradient Boosting Regressor is still Best performing Model confirming with lowest rmse value and highest r2 score"
   ]
  },
  {
   "cell_type": "markdown",
   "id": "4d6ab31c",
   "metadata": {},
   "source": [
    "<hr>"
   ]
  },
  {
   "cell_type": "markdown",
   "id": "bd6fd968",
   "metadata": {},
   "source": [
    "### Hyper-parameter Optimization\n",
    "using Randomized Search"
   ]
  },
  {
   "cell_type": "code",
   "execution_count": 24,
   "id": "dcb4a286",
   "metadata": {},
   "outputs": [],
   "source": [
    "from sklearn.model_selection import RandomizedSearchCV\n",
    "\n",
    "parameters = {'learning_rate':[0.05,0.25,0.5,1],\n",
    "              'subsample': [0.9,0.5,0.2,0.1],\n",
    "              'n_estimators':[100,500,1000,1500],\n",
    "              'max_depth':[4,6,8,10]}\n",
    "\n",
    "random_model = RandomizedSearchCV(estimator=boost, param_distributions= parameters,\n",
    "                                scoring='neg_mean_absolute_error', n_iter=100, n_jobs=-1, cv=cv)"
   ]
  },
  {
   "cell_type": "code",
   "execution_count": 25,
   "id": "0fc7b95f",
   "metadata": {},
   "outputs": [],
   "source": [
    "model = random_model.fit(scaled_Xtrain, y_train)"
   ]
  },
  {
   "cell_type": "code",
   "execution_count": 34,
   "id": "2a8166d9",
   "metadata": {},
   "outputs": [
    {
     "name": "stdout",
     "output_type": "stream",
     "text": [
      "Best Hyperparameters: {'subsample': 0.9, 'n_estimators': 100, 'max_depth': 4, 'learning_rate': 0.05}\n",
      "Best score: 2527.8579626646856\n"
     ]
    }
   ],
   "source": [
    "print(f\"Best Hyperparameters: {model.best_params_}\")\n",
    "best_est = model.best_estimator_\n",
    "print(f\"Best score: {np.absolute(model.best_score_)}\")"
   ]
  },
  {
   "cell_type": "code",
   "execution_count": 35,
   "id": "13e233e7",
   "metadata": {},
   "outputs": [],
   "source": [
    "boosted = best_est\n",
    "boosted.fit(scaled_Xtrain, y_train)\n",
    "\n",
    "search_pred = boosted.predict(scaled_Xval)"
   ]
  },
  {
   "cell_type": "markdown",
   "id": "be3f9d63",
   "metadata": {},
   "source": [
    "<hr>"
   ]
  },
  {
   "cell_type": "markdown",
   "id": "7bfb93bc",
   "metadata": {},
   "source": [
    "### Model Evaluation"
   ]
  },
  {
   "cell_type": "code",
   "execution_count": 37,
   "id": "e1058b60",
   "metadata": {
    "scrolled": true
   },
   "outputs": [
    {
     "name": "stdout",
     "output_type": "stream",
     "text": [
      "After optimization:\n",
      "rmse = 4551.801085191208\n",
      "r2_score = 0.8641087546234093\n",
      "score = 2505.567.\n"
     ]
    }
   ],
   "source": [
    "from sklearn.metrics import mean_squared_error, r2_score\n",
    "\n",
    "rmse = np.sqrt(mean_squared_error(y_test, search_pred))\n",
    "r2score = boosted.score(scaled_Xval, y_test)\n",
    "score = np.absolute(np.mean(cross_val_score(boosted, scaled_Xtrain, y_train,\n",
    "                                           scoring='neg_mean_absolute_error', cv=cv, n_jobs=-1)))\n",
    "                  \n",
    "print(f\"After optimization:\\nrmse = {rmse}\\nr2_score = {r2score}\\nscore = {score:.3f}.\")"
   ]
  },
  {
   "cell_type": "markdown",
   "id": "8b1e01db",
   "metadata": {},
   "source": [
    "#### Comparing the values before and after Hyper-parameter optimization:\n",
    "* Mean MAE decreased from 2540.690 to 2505.567\n",
    "* r2 score increased from by 86.37% to 86.41%\n",
    "* rmse decreased from 4558.95 to 4551.80."
   ]
  }
 ],
 "metadata": {
  "kernelspec": {
   "display_name": "Python 3",
   "language": "python",
   "name": "python3"
  },
  "language_info": {
   "codemirror_mode": {
    "name": "ipython",
    "version": 3
   },
   "file_extension": ".py",
   "mimetype": "text/x-python",
   "name": "python",
   "nbconvert_exporter": "python",
   "pygments_lexer": "ipython3",
   "version": "3.8.8"
  }
 },
 "nbformat": 4,
 "nbformat_minor": 5
}
